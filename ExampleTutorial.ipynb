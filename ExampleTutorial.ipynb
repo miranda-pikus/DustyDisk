{
 "cells": [
  {
   "cell_type": "code",
   "execution_count": 1,
   "id": "12b8bbe4-c2c5-4257-bed1-a9284af242c1",
   "metadata": {},
   "outputs": [],
   "source": [
    "## imports\n",
    "import numpy as np\n",
    "import matplotlib.pyplot as plt\n",
    "from Main import Initialize_System\n",
    "import Constants"
   ]
  },
  {
   "cell_type": "code",
   "execution_count": 2,
   "id": "e3640dde-80b7-42f6-8a0e-ecc6ef24aded",
   "metadata": {},
   "outputs": [],
   "source": [
    "# input radial binning\n",
    "rmin = 0.1 * Constants.AU\n",
    "rmax = 100 * Constants.AU\n",
    "N = 1000 # number of points\n",
    "r = np.linspace(rmin, rmax, N)\n",
    "# input gas density\n",
    "gas_density = (200 * (r / Constants.AU)**(-1)) * (1 + np.exp(-((r - 30*Constants.AU) / (5*Constants.AU))**2))\n",
    "# input temperature profile\n",
    "gas_temp = 280 # Kelvin, constant for now\n",
    "# other \n",
    "mugas = 2.34 \n",
    "Mstar = 1 * Constants.Msun"
   ]
  },
  {
   "cell_type": "code",
   "execution_count": 5,
   "id": "58c77445",
   "metadata": {},
   "outputs": [],
   "source": [
    "# initialize the system to create a Grid class\n",
    "aGrid = Initialize_System(r, gas_density, gas_temp, mugas, Mstar)"
   ]
  },
  {
   "cell_type": "code",
   "execution_count": null,
   "id": "e06a2f6d",
   "metadata": {},
   "outputs": [],
   "source": [
    "# plot the temperature and gas pressure as a function of radius\n"
   ]
  }
 ],
 "metadata": {
  "kernelspec": {
   "display_name": "codeastro",
   "language": "python",
   "name": "python3"
  },
  "language_info": {
   "codemirror_mode": {
    "name": "ipython",
    "version": 3
   },
   "file_extension": ".py",
   "mimetype": "text/x-python",
   "name": "python",
   "nbconvert_exporter": "python",
   "pygments_lexer": "ipython3",
   "version": "3.10.18"
  }
 },
 "nbformat": 4,
 "nbformat_minor": 5
}
